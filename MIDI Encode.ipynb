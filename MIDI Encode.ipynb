{
 "cells": [
  {
   "cell_type": "code",
   "execution_count": 1,
   "metadata": {},
   "outputs": [],
   "source": [
    "%reload_ext autoreload\n",
    "%autoreload 2"
   ]
  },
  {
   "cell_type": "code",
   "execution_count": 62,
   "metadata": {},
   "outputs": [],
   "source": [
    "import math\n",
    "\n",
    "from collections import defaultdict\n",
    "from pathlib import Path\n",
    "\n",
    "import music21"
   ]
  },
  {
   "cell_type": "markdown",
   "metadata": {},
   "source": [
    "## Exploration and test encoding"
   ]
  },
  {
   "cell_type": "code",
   "execution_count": 3,
   "metadata": {},
   "outputs": [],
   "source": [
    "MIDI_FILE = 'clean_midi/Daft Punk/Around the World   Harder Better Faster Stronger.1.mid'"
   ]
  },
  {
   "cell_type": "code",
   "execution_count": 4,
   "metadata": {},
   "outputs": [],
   "source": [
    "with open(MIDI_FILE, 'rb') as f:\n",
    "    mf = music21.midi.MidiFile()\n",
    "    mf.openFileLike(f)\n",
    "    mf.read()"
   ]
  },
  {
   "cell_type": "code",
   "execution_count": 5,
   "metadata": {},
   "outputs": [
    {
     "data": {
      "text/plain": [
       "384"
      ]
     },
     "execution_count": 5,
     "metadata": {},
     "output_type": "execute_result"
    }
   ],
   "source": [
    "mf.ticksPerQuarterNote"
   ]
  },
  {
   "cell_type": "code",
   "execution_count": 6,
   "metadata": {},
   "outputs": [],
   "source": [
    "track_1 = mf.tracks[1]"
   ]
  },
  {
   "cell_type": "code",
   "execution_count": 7,
   "metadata": {},
   "outputs": [
    {
     "data": {
      "text/plain": [
       "<music21.stream.Score 0x11855aad0>"
      ]
     },
     "execution_count": 7,
     "metadata": {},
     "output_type": "execute_result"
    }
   ],
   "source": [
    "stream = music21.midi.translate.midiFileToStream(mf)\n",
    "stream.quantize((4, 3))"
   ]
  },
  {
   "cell_type": "code",
   "execution_count": 8,
   "metadata": {},
   "outputs": [],
   "source": [
    "SAMPLE_FREQ = 4 # samples per quarter note"
   ]
  },
  {
   "cell_type": "code",
   "execution_count": 9,
   "metadata": {},
   "outputs": [],
   "source": [
    "note_filter = music21.stream.filters.ClassFilter('Note')"
   ]
  },
  {
   "cell_type": "code",
   "execution_count": 10,
   "metadata": {},
   "outputs": [],
   "source": [
    "def instrument_filter(inst):\n",
    "    return 'bass' in str(inst).lower()"
   ]
  },
  {
   "cell_type": "code",
   "execution_count": 11,
   "metadata": {},
   "outputs": [],
   "source": [
    "duration = music21.duration.Duration(0.0625)"
   ]
  },
  {
   "cell_type": "code",
   "execution_count": 43,
   "metadata": {},
   "outputs": [],
   "source": [
    "class Track(object):\n",
    "    @staticmethod\n",
    "    def encode_notes(notes, sample_freq=4, transpose=0):\n",
    "        \"\"\"\n",
    "        Return a list-of-strings representation of the notes for downstream tasks (language modelling)\n",
    "        \"\"\"\n",
    "        encoded = []\n",
    "        for note in notes:\n",
    "            # NOTE: We'll make a sort of crude approximation of the musical sequence here\n",
    "            # Passing in a quantized stream will help reduce these though. Further thought required.\n",
    "            duration = math.floor(note.duration.quarterLength * sample_freq)\n",
    "            \n",
    "            if isinstance(note, music21.note.Note):\n",
    "                midi_pitch = note.pitch.midi + transpose\n",
    "                tok = f'S-{midi_pitch}'\n",
    "                encoded.append(tok)\n",
    "                encoded += [f'H-{midi_pitch}' for _ in range(duration - 1)]\n",
    "            elif isinstance(note, music21.note.Rest):\n",
    "                encoded += ['R' for _ in range(duration)]\n",
    "        return encoded\n",
    "    \n",
    "    @staticmethod\n",
    "    def decode_notes(enc_notes, sample_freq=4):\n",
    "        \"\"\"\n",
    "        Return a list of music21.note.Note/Rest instances from a list-of-strings representation sampled at the\n",
    "        specified sample frequency.\n",
    "        \"\"\"\n",
    "        \n",
    "        notes = []\n",
    "        curr_note = None\n",
    "        duration_inc = 1 / sample_freq\n",
    "        \n",
    "        for enc in enc_notes:\n",
    "            if 'S-' in enc:\n",
    "                curr_note = music21.note.Note()\n",
    "                notes.append(curr_note)\n",
    "                curr_note.pitch.midi = int(enc.replace('S-', ''))\n",
    "                curr_note.duration = music21.duration.Duration(duration_inc)\n",
    "            elif 'H-' in enc:\n",
    "                curr_note.duration.quarterLength += duration_inc\n",
    "            elif 'R' in enc:\n",
    "                curr_note = music21.note.Rest()\n",
    "                notes.append(curr_note)\n",
    "                curr_note.duration = music21.duration.Duration(duration_inc)\n",
    "        return notes\n",
    "    \n",
    "    def __init__(self, name, notes):\n",
    "        self.name = name\n",
    "        self.notes = notes # music21.note.Note/Rest instances\n",
    "    \n",
    "    def encode(self, transpose=0):\n",
    "        return self.encode_notes(self.notes, transpose)\n",
    "    \n",
    "    def track_range(self):\n",
    "        pitches = [note.pitch.midi for note in self.notes if isinstance(note, music21.note.Note)]\n",
    "        return (min(pitches), max(pitches))\n",
    "    \n",
    "    def encode_many(self, rng=(24, 75)):\n",
    "        \"\"\"\n",
    "        Returns a list of enccodings that fit between the provided range and preserve the original\n",
    "        note relationships (if any can).\n",
    "        \"\"\"\n",
    "        rng_min, rng_max = rng\n",
    "        pitch_min, pitch_max = self.track_range()\n",
    "        \n",
    "        trans_min = rng_min - pitch_min\n",
    "        trans_max = trans_min + (rng_max - pitch_max)\n",
    "        \n",
    "        encodings = []\n",
    "        \n",
    "        if (rng_max - rng_min) < (pitch_max - pitch_min):\n",
    "            return encodings\n",
    "        \n",
    "        for transpose in range(trans_min, trans_max + 1):\n",
    "            encodings.append(self.encode(transpose=transpose))\n",
    "        return encodings\n",
    "    "
   ]
  },
  {
   "cell_type": "code",
   "execution_count": 109,
   "metadata": {},
   "outputs": [],
   "source": [
    "class TrackCollection(object):\n",
    "    def __init__(self, tracks):\n",
    "        self.tracks = tracks\n",
    "    \n",
    "    @classmethod\n",
    "    def load(cls, stream, instrument_filter=None):\n",
    "        note_seqs = defaultdict(list)        \n",
    "        for action in stream.recurse(classFilter=('Note', 'Rest')):\n",
    "            instrument = action.activeSite.getInstrument()\n",
    "            if instrument_filter and not instrument_filter(instrument):\n",
    "                continue\n",
    "            \n",
    "            instr_name = str(instrument)\n",
    "            note_seqs[instr_name].append(action)\n",
    "        \n",
    "        return cls({instr_name: Track(instr_name, notes) for intr_name, notes in note_seqs.items()})\n",
    "    \n",
    "    @classmethod\n",
    "    def load_from_file(cls, fname, instrument_filter=None):\n",
    "        with open(fname, 'rb') as f:\n",
    "            mf = music21.midi.MidiFile()\n",
    "            mf.openFileLike(f)\n",
    "            mf.read()\n",
    "        stream = music21.midi.translate.midiFileToStream(mf)\n",
    "        return cls.load(stream, instrument_filter=instrument_filter)\n",
    "        "
   ]
  },
  {
   "cell_type": "code",
   "execution_count": 45,
   "metadata": {},
   "outputs": [],
   "source": [
    "tracks = TrackCollection.load(stream, instrument_filter)"
   ]
  },
  {
   "cell_type": "code",
   "execution_count": 46,
   "metadata": {},
   "outputs": [
    {
     "data": {
      "text/plain": [
       "36"
      ]
     },
     "execution_count": 46,
     "metadata": {},
     "output_type": "execute_result"
    }
   ],
   "source": [
    "len(tracks.tracks['Fretless Bass'].encode_many())"
   ]
  },
  {
   "cell_type": "code",
   "execution_count": 15,
   "metadata": {},
   "outputs": [],
   "source": [
    "recoded_notes = Track.decode_notes(tracks.tracks['Fretless Bass'].encode())"
   ]
  },
  {
   "cell_type": "code",
   "execution_count": 20,
   "metadata": {},
   "outputs": [],
   "source": [
    "recoded_stream = music21.stream.Stream()\n",
    "for note in recoded_notes:\n",
    "    recoded_stream.append(note)"
   ]
  },
  {
   "cell_type": "code",
   "execution_count": 24,
   "metadata": {},
   "outputs": [],
   "source": [
    "test_note = music21.note.Note('D1')"
   ]
  },
  {
   "cell_type": "code",
   "execution_count": 47,
   "metadata": {},
   "outputs": [],
   "source": [
    "#recoded_stream.show()"
   ]
  },
  {
   "cell_type": "code",
   "execution_count": 18,
   "metadata": {},
   "outputs": [],
   "source": [
    "#sp = music21.midi.realtime.StreamPlayer(recoded_stream)\n",
    "#sp.play()"
   ]
  },
  {
   "cell_type": "code",
   "execution_count": 48,
   "metadata": {},
   "outputs": [],
   "source": [
    "#part_stream = stream.parts.stream()"
   ]
  },
  {
   "cell_type": "code",
   "execution_count": 49,
   "metadata": {},
   "outputs": [],
   "source": [
    "#part_stream[2].show()"
   ]
  },
  {
   "cell_type": "markdown",
   "metadata": {},
   "source": [
    "## Generate dataset"
   ]
  },
  {
   "cell_type": "code",
   "execution_count": 52,
   "metadata": {},
   "outputs": [],
   "source": [
    "import os"
   ]
  },
  {
   "cell_type": "code",
   "execution_count": 60,
   "metadata": {},
   "outputs": [
    {
     "data": {
      "text/plain": [
       "['Alan Jackson',\n",
       " 'Freddie Jackson',\n",
       " 'J.J. Jackson',\n",
       " 'Jackson 5',\n",
       " 'Jackson Browne',\n",
       " 'Jackson Michael',\n",
       " 'Janet Jackson',\n",
       " 'Jeremy Jackson',\n",
       " 'Joe Jackson',\n",
       " 'Mahalia Jackson',\n",
       " 'Michael Jackson']"
      ]
     },
     "execution_count": 60,
     "metadata": {},
     "output_type": "execute_result"
    }
   ],
   "source": [
    "list(filter(lambda x: 'Jackson' in x, os.listdir('clean_midi/')))"
   ]
  },
  {
   "cell_type": "code",
   "execution_count": null,
   "metadata": {},
   "outputs": [],
   "source": [
    "ARTISTS = [\n",
    "#     'ABBA',\n",
    "    'Annie Lennox',\n",
    "    'Beastie Boys',\n",
    "    'Beck',\n",
    "    'Bee Gees',\n",
    "    'Billy Idol',\n",
    "    'Collins Phil',\n",
    "    'Daft Punk',\n",
    "    'Echo & The Bunnymen',\n",
    "    'Electric Light Orchestra',\n",
    "    'Elton John',\n",
    "    'Elvis Costello',\n",
    "    'Erasure',\n",
    "    'Eurythmics',\n",
    "    'Fatboy Slim',\n",
    "    'Fleetwood Mac',\n",
    "    'Frankie Goes to Hollywood',\n",
    "    'Grace Jones',\n",
    "    'Hall & Oates',\n",
    "    'Huey Lewis & The News',\n",
    "    'Jackson 5',\n",
    "    'Jackson Michael',\n",
    "    'Jimi Hendrix',\n",
    "    'Korgis',\n",
    "    'Kraftwerk',\n",
    "    'Michael Jackson',\n",
    "    'Moby',\n",
    "    'New Order',\n",
    "    'Nine Inch Nails',\n",
    "    'Orbital',\n",
    "    'Pet Shop Boys',\n",
    "    'Phil Collins',\n",
    "    'Red Hot Chili Peppers',\n",
    "    'Rita Coolidge',\n",
    "    'Roberta Flack',\n",
    "    'Simple Minds',\n",
    "    'Sister Sledge',\n",
    "    'Soft Cell',\n",
    "    'Sonic Youth',\n",
    "    'Spin Doctors',\n",
    "    'Steve Miller Band',\n",
    "    'Steve Winwood',\n",
    "    'T. Rex',\n",
    "    'Talk Talk',\n",
    "    'Talking Heads',\n",
    "    'The Beach Boys',\n",
    "    'The Doors',\n",
    "    'The Human League',\n",
    "    'Yazz & plastic population',\n",
    "    'Ultravox'\n",
    "]"
   ]
  },
  {
   "cell_type": "code",
   "execution_count": 118,
   "metadata": {},
   "outputs": [],
   "source": [
    "ARTISTS = [\n",
    "#     'Beck',\n",
    "#     'Collins Phil',\n",
    "#     'Daft Punk',\n",
    "#     'Echo & The Bunnymen',\n",
    "#     'Eurythmics',\n",
    "#     'Frankie Goes to Hollywood',\n",
    "#     'Hall & Oates',\n",
    "#     'Jackson 5',\n",
    "#     'Jackson Michael',\n",
    "#     'Kraftwerk',\n",
    "#     'Michael Jackson',\n",
    "#     'Moby',\n",
    "#     'New Order',\n",
    "#     'Orbital',\n",
    "#     'Pet Shop Boys',\n",
    "#     'Phil Collins',\n",
    "#     'Talking Heads',\n",
    "    'The Human League',\n",
    "    'David Bowie'\n",
    "]"
   ]
  },
  {
   "cell_type": "code",
   "execution_count": 97,
   "metadata": {},
   "outputs": [],
   "source": [
    "DATA_DIR = Path('clean_midi/')\n",
    "OUT_DIR = Path('data/encoded/')"
   ]
  },
  {
   "cell_type": "code",
   "execution_count": 98,
   "metadata": {},
   "outputs": [],
   "source": [
    "def instrument_filter(inst):\n",
    "    return 'bass' in str(inst).lower()"
   ]
  },
  {
   "cell_type": "code",
   "execution_count": 119,
   "metadata": {},
   "outputs": [
    {
     "name": "stdout",
     "output_type": "stream",
     "text": [
      "Loading tracks for Don't You Want Me.mid by The Human League\n",
      "DONE (found 1 track matching filter)\n",
      "----> Encoding Electric Bass\n",
      "----> Writing files (36) to data/encoded\n",
      "----> DONE\n",
      "Loading tracks for Dont You Want Me.1.mid by The Human League\n",
      "DONE (found 0 track matching filter)\n",
      "Loading tracks for Dont You Want Me.mid by The Human League\n",
      "DONE (found 0 track matching filter)\n",
      "Loading tracks for Tell Me When.mid by The Human League\n",
      "DONE (found 0 track matching filter)\n",
      "Loading tracks for Diamond Dogs.mid by David Bowie\n",
      "DONE (found 0 track matching filter)\n",
      "Loading tracks for Let's Dance.mid by David Bowie\n",
      "DONE (found 1 track matching filter)\n",
      "----> Encoding Acoustic Bass\n",
      "----> Writing files (30) to data/encoded\n",
      "----> DONE\n",
      "Loading tracks for Life On Mars.mid by David Bowie\n",
      "DONE (found 0 track matching filter)\n",
      "Loading tracks for Suffragette City.mid by David Bowie\n",
      "DONE (found 1 track matching filter)\n",
      "----> Encoding Fretless Bass\n",
      "----> Writing files (31) to data/encoded\n",
      "----> DONE\n",
      "Loading tracks for This Is Not America.mid by David Bowie\n",
      "DONE (found 1 track matching filter)\n",
      "----> Encoding Fretless Bass\n",
      "----> Writing files (27) to data/encoded\n",
      "----> DONE\n"
     ]
    }
   ],
   "source": [
    "for artist in ARTISTS:\n",
    "    artist_dir = DATA_DIR/artist\n",
    "    for song in os.listdir(artist_dir):\n",
    "        out_name = f'{artist.replace(\" \", \"-\")}_{song.replace(\" \", \"-\").replace(\".mid\", \"\")}'\n",
    "        print(f'Loading tracks for {song} by {artist}')\n",
    "        try:\n",
    "            tracks = TrackCollection.load_from_file(artist_dir/song, instrument_filter=instrument_filter)\n",
    "        except Exception:\n",
    "            print('Unable to load file, skipping...')\n",
    "            continue\n",
    "        print(f'DONE (found {len(tracks.tracks)} track matching filter)')\n",
    "        for track_title, track in tracks.tracks.items():\n",
    "            print(f'----> Encoding {track_title}')\n",
    "            try:\n",
    "                encoded = track.encode_many()\n",
    "            except ValueError:\n",
    "                print('Encoding failed, skipping...')\n",
    "                continue\n",
    "            print(f'----> Writing files ({len(encoded)}) to {OUT_DIR}')\n",
    "            for i, enc in enumerate(encoded):\n",
    "                with open(OUT_DIR/f'{out_name}-{i+1}.txt', 'w') as f:\n",
    "                    f.write(','.join(enc))\n",
    "            print('----> DONE')"
   ]
  },
  {
   "cell_type": "code",
   "execution_count": 68,
   "metadata": {},
   "outputs": [
    {
     "data": {
      "text/plain": [
       "'around-the-world---harder-better-faster-stronger.1.mid'"
      ]
     },
     "execution_count": 68,
     "metadata": {},
     "output_type": "execute_result"
    }
   ],
   "source": [
    "'Around the World   Harder Better Faster Stronger.1.mid'.replace(' ', '-').lower()"
   ]
  },
  {
   "cell_type": "code",
   "execution_count": null,
   "metadata": {},
   "outputs": [],
   "source": []
  }
 ],
 "metadata": {
  "kernelspec": {
   "display_name": "Python 3",
   "language": "python",
   "name": "python3"
  },
  "language_info": {
   "codemirror_mode": {
    "name": "ipython",
    "version": 3
   },
   "file_extension": ".py",
   "mimetype": "text/x-python",
   "name": "python",
   "nbconvert_exporter": "python",
   "pygments_lexer": "ipython3",
   "version": "3.7.5"
  }
 },
 "nbformat": 4,
 "nbformat_minor": 2
}
